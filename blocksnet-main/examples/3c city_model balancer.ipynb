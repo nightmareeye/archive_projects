{
  "cells": [
    {
      "cell_type": "code",
      "execution_count": 1,
      "metadata": {},
      "outputs": [],
      "source": [
        "import os\n",
        "import pandas as pd\n",
        "import geopandas as gpd\n",
        "\n",
        "# os.environ[\"USE_PYGEOS\"] = os.environ.get(\"USE_PYGEOS\", \"0\")\n",
        "local_crs = 32636\n",
        "# path to data\n",
        "example_data_path = \"./data\""
      ]
    },
    {
      "cell_type": "code",
      "execution_count": 2,
      "metadata": {},
      "outputs": [],
      "source": [
        "# load aggregated info we have\n",
        "aggregated_blocks = gpd.read_parquet(os.path.join(example_data_path, \"data_getter_blocks.parquet\"))\n",
        "accessibility_matrix = pd.read_pickle(os.path.join(example_data_path, \"data_getter_matrix.pickle\"))"
      ]
    },
    {
      "cell_type": "code",
      "execution_count": 3,
      "metadata": {},
      "outputs": [],
      "source": [
        "# load data required for service graphs creation\n",
        "schools = gpd.read_parquet(os.path.join(example_data_path, \"schools.parquet\"))\n",
        "kindergartens = gpd.read_parquet(os.path.join(example_data_path, \"kindergartens.parquet\"))\n",
        "recreational_areas = gpd.read_parquet(os.path.join(example_data_path, \"recreational_areas.parquet\")).rename_geometry('geometry')\n",
        "\n",
        "hospitals = gpd.read_file(os.path.join(example_data_path, \"hospitals.geojson\"))\n",
        "pharmacies = gpd.read_file(os.path.join(example_data_path, \"pharmacies.geojson\"))\n",
        "policlinics = gpd.read_file(os.path.join(example_data_path, \"policlinics.geojson\"))\n",
        "\n",
        "# services should be specified as a dictionary\n",
        "services = {\"schools\": schools, \"kindergartens\": kindergartens, \"recreational_areas\": recreational_areas,\n",
        "            \"hospitals\": hospitals, \"pharmacies\": pharmacies, \"policlinics\": policlinics}"
      ]
    },
    {
      "cell_type": "code",
      "execution_count": 4,
      "metadata": {},
      "outputs": [],
      "source": [
        "from blocksnet import CityModel\n",
        "\n",
        "city_model = CityModel(\n",
        "  blocks=aggregated_blocks, \n",
        "  accessibility_matrix=accessibility_matrix, \n",
        "  services=services\n",
        ")"
      ]
    },
    {
      "cell_type": "code",
      "execution_count": 5,
      "metadata": {
        "collapsed": false,
        "pycharm": {
          "name": "#%%\n"
        }
      },
      "outputs": [],
      "source": [
        "from blocksnet.method.balancing import MasterPlan\n",
        "\n",
        "try:\n",
        "    from rich import print\n",
        "except:\n",
        "    print(\"Install Rich package with `python -m pip install rich` for colored output\")"
      ]
    },
    {
      "cell_type": "code",
      "execution_count": 6,
      "metadata": {
        "collapsed": false,
        "pycharm": {
          "name": "#%%\n"
        }
      },
      "outputs": [],
      "source": [
        "example_block = {\n",
        "    \"block_id\": 2157,\n",
        "    \"area\": 269.91357042657916,\n",
        "    \"current_living_area\": 14.3349511,\n",
        "    \"current_industrial_area\": 10.115001506,\n",
        "    \"current_population\": 28909,\n",
        "    \"current_green_area\": 24.4459,\n",
        "    \"floors\": 5,\n",
        "    \"population_unprov_schools\": 10,\n",
        "    \"population_unprov_kindergartens\": 20,\n",
        "    \"population_unprov_recreational_areas\": 30,\n",
        "}"
      ]
    },
    {
      "cell_type": "code",
      "execution_count": 7,
      "metadata": {
        "collapsed": false,
        "pycharm": {
          "name": "#%%\n"
        }
      },
      "outputs": [],
      "source": [
        "mp = MasterPlan(\n",
        "    area=example_block[\"area\"],\n",
        "    current_living_area=example_block[\"current_living_area\"],\n",
        "    current_industrial_area=example_block[\"current_industrial_area\"],\n",
        "    current_population=example_block[\"current_population\"],\n",
        "    current_green_area=example_block[\"current_green_area\"],\n",
        "    current_unprov_schoolkids=example_block[\"population_unprov_schools\"],\n",
        "    current_unprov_kids=example_block[\"population_unprov_kindergartens\"],\n",
        "    current_unprov_green_population=example_block[\"population_unprov_recreational_areas\"],\n",
        ")"
      ]
    },
    {
      "cell_type": "code",
      "execution_count": 8,
      "metadata": {
        "collapsed": false,
        "pycharm": {
          "name": "#%%\n"
        }
      },
      "outputs": [
        {
          "data": {
            "text/plain": [
              "{'area': 269.91357042657916,\n",
              " 'population': 54041,\n",
              " 'b': 24.000000000000004,\n",
              " 'green_coef_G': 9.0,\n",
              " 'living_area': 74.65175110000001,\n",
              " 'schools_area': 5.4,\n",
              " 'schools_capacity': 3300.0,\n",
              " 'kindergartens_area': 0,\n",
              " 'kindergartens_capacity': 0,\n",
              " 'green_area': 47.0917,\n",
              " 'G_min_capacity': 78486.16666666667,\n",
              " 'G_max_capacity': 39243.083333333336,\n",
              " 'green_coef_G_capacity': 52324.11111111112,\n",
              " 'op_area': 0.075396,\n",
              " 'parking1_area': 18.999792000000003,\n",
              " 'parking2_area': 18.47202}"
            ]
          },
          "execution_count": 8,
          "metadata": {},
          "output_type": "execute_result"
        }
      ],
      "source": [
        "mp.optimal_solution_indicators()"
      ]
    }
  ],
  "metadata": {
    "kernelspec": {
      "display_name": "Python 3.10.12 ('.venv': venv)",
      "language": "python",
      "name": "python3"
    },
    "language_info": {
      "codemirror_mode": {
        "name": "ipython",
        "version": 3
      },
      "file_extension": ".py",
      "mimetype": "text/x-python",
      "name": "python",
      "nbconvert_exporter": "python",
      "pygments_lexer": "ipython3",
      "version": "3.10.12"
    },
    "vscode": {
      "interpreter": {
        "hash": "10a17c1b6daec4f71e1a6be0c0f3dce45cab57590679db625cc1c5fc73cbfc9f"
      }
    }
  },
  "nbformat": 4,
  "nbformat_minor": 0
}
